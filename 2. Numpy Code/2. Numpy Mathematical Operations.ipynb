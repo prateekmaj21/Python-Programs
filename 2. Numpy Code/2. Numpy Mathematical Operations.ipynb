{
 "cells": [
  {
   "cell_type": "code",
   "execution_count": 1,
   "metadata": {},
   "outputs": [],
   "source": [
    "import numpy as np"
   ]
  },
  {
   "cell_type": "code",
   "execution_count": 2,
   "metadata": {},
   "outputs": [
    {
     "name": "stdout",
     "output_type": "stream",
     "text": [
      "[12 15 15]\n"
     ]
    }
   ],
   "source": [
    "a=np.array([4,6,8])\n",
    "b=np.array([8,9,7])\n",
    "\n",
    "c=a+b\n",
    "\n",
    "print(c)"
   ]
  },
  {
   "cell_type": "code",
   "execution_count": 3,
   "metadata": {},
   "outputs": [
    {
     "name": "stdout",
     "output_type": "stream",
     "text": [
      "[32 54 56]\n"
     ]
    }
   ],
   "source": [
    "a=np.array([4,6,8])\n",
    "b=np.array([8,9,7])\n",
    "\n",
    "c=a*b\n",
    "\n",
    "print(c)"
   ]
  },
  {
   "cell_type": "code",
   "execution_count": 4,
   "metadata": {},
   "outputs": [
    {
     "name": "stdout",
     "output_type": "stream",
     "text": [
      "[0.5        0.66666667 1.14285714]\n"
     ]
    }
   ],
   "source": [
    "a=np.array([4,6,8])\n",
    "b=np.array([8,9,7])\n",
    "\n",
    "c=a/b\n",
    "\n",
    "print(c)"
   ]
  },
  {
   "cell_type": "code",
   "execution_count": null,
   "metadata": {},
   "outputs": [],
   "source": [
    "\n"
   ]
  },
  {
   "cell_type": "code",
   "execution_count": 7,
   "metadata": {},
   "outputs": [
    {
     "name": "stdout",
     "output_type": "stream",
     "text": [
      "144\n"
     ]
    }
   ],
   "source": [
    "c=np.array([6,7,5,8])\n",
    "d=np.array([4,3,7,8])\n",
    "\n",
    "ans=c.dot(d)  #dot product\n",
    "\n",
    "print(ans)"
   ]
  },
  {
   "cell_type": "code",
   "execution_count": 14,
   "metadata": {},
   "outputs": [
    {
     "name": "stdout",
     "output_type": "stream",
     "text": [
      "[[5 7 5 4 5]\n",
      " [6 2 3 4 6]]\n"
     ]
    }
   ],
   "source": [
    "z=np.array([[5,7,5,4,5],[6,2,3,4,6]])\n",
    "\n",
    "print(z)"
   ]
  },
  {
   "cell_type": "code",
   "execution_count": 16,
   "metadata": {},
   "outputs": [
    {
     "name": "stdout",
     "output_type": "stream",
     "text": [
      "[[5 6]\n",
      " [7 2]\n",
      " [5 3]\n",
      " [4 4]\n",
      " [5 6]]\n"
     ]
    }
   ],
   "source": [
    "print(z.T)"
   ]
  },
  {
   "cell_type": "code",
   "execution_count": 17,
   "metadata": {},
   "outputs": [],
   "source": [
    "h=np.arange(4,90,5)"
   ]
  },
  {
   "cell_type": "code",
   "execution_count": 18,
   "metadata": {},
   "outputs": [
    {
     "name": "stdout",
     "output_type": "stream",
     "text": [
      "[ 4  9 14 19 24 29 34 39 44 49 54 59 64 69 74 79 84 89]\n"
     ]
    }
   ],
   "source": [
    "print(h)"
   ]
  },
  {
   "cell_type": "code",
   "execution_count": 19,
   "metadata": {},
   "outputs": [
    {
     "data": {
      "text/plain": [
       "837"
      ]
     },
     "execution_count": 19,
     "metadata": {},
     "output_type": "execute_result"
    }
   ],
   "source": [
    "h.sum()"
   ]
  },
  {
   "cell_type": "code",
   "execution_count": 20,
   "metadata": {},
   "outputs": [
    {
     "data": {
      "text/plain": [
       "89"
      ]
     },
     "execution_count": 20,
     "metadata": {},
     "output_type": "execute_result"
    }
   ],
   "source": [
    "h.max()"
   ]
  },
  {
   "cell_type": "code",
   "execution_count": 21,
   "metadata": {},
   "outputs": [
    {
     "data": {
      "text/plain": [
       "4"
      ]
     },
     "execution_count": 21,
     "metadata": {},
     "output_type": "execute_result"
    }
   ],
   "source": [
    "h.min()"
   ]
  },
  {
   "cell_type": "code",
   "execution_count": 22,
   "metadata": {},
   "outputs": [
    {
     "data": {
      "text/plain": [
       "46.5"
      ]
     },
     "execution_count": 22,
     "metadata": {},
     "output_type": "execute_result"
    }
   ],
   "source": [
    "h.mean()"
   ]
  },
  {
   "cell_type": "code",
   "execution_count": 23,
   "metadata": {},
   "outputs": [
    {
     "data": {
      "text/plain": [
       "25.940637360455632"
      ]
     },
     "execution_count": 23,
     "metadata": {},
     "output_type": "execute_result"
    }
   ],
   "source": [
    "h.std()"
   ]
  },
  {
   "cell_type": "code",
   "execution_count": 24,
   "metadata": {},
   "outputs": [
    {
     "data": {
      "text/plain": [
       "17"
      ]
     },
     "execution_count": 24,
     "metadata": {},
     "output_type": "execute_result"
    }
   ],
   "source": [
    "h.argmax()"
   ]
  },
  {
   "cell_type": "code",
   "execution_count": 25,
   "metadata": {},
   "outputs": [
    {
     "data": {
      "text/plain": [
       "0"
      ]
     },
     "execution_count": 25,
     "metadata": {},
     "output_type": "execute_result"
    }
   ],
   "source": [
    "h.argmin()"
   ]
  },
  {
   "cell_type": "code",
   "execution_count": 26,
   "metadata": {},
   "outputs": [],
   "source": [
    "#Iterating Over Arrays\n"
   ]
  },
  {
   "cell_type": "code",
   "execution_count": 27,
   "metadata": {},
   "outputs": [
    {
     "name": "stdout",
     "output_type": "stream",
     "text": [
      "[[5 0 2]\n",
      " [3 6 0]\n",
      " [5 7 7]\n",
      " [0 5 9]]\n"
     ]
    }
   ],
   "source": [
    "test = np.random.randint(0,10,(4,3))\n",
    "print(test)"
   ]
  },
  {
   "cell_type": "code",
   "execution_count": 28,
   "metadata": {},
   "outputs": [
    {
     "data": {
      "text/plain": [
       "array([[106, 103, 104],\n",
       "       [ 96,  93, 106],\n",
       "       [110, 108, 115],\n",
       "       [117, 106, 114],\n",
       "       [ 91, 102, 103],\n",
       "       [ 98, 104,  92],\n",
       "       [112,  99, 105],\n",
       "       [115, 111, 118]])"
      ]
     },
     "execution_count": 28,
     "metadata": {},
     "output_type": "execute_result"
    }
   ],
   "source": [
    "test2 = np.random.randint(90,120,(8,3))\n",
    "test2"
   ]
  },
  {
   "cell_type": "code",
   "execution_count": 30,
   "metadata": {},
   "outputs": [
    {
     "name": "stdout",
     "output_type": "stream",
     "text": [
      "[106 103 104]\n",
      "[ 96  93 106]\n",
      "[110 108 115]\n",
      "[117 106 114]\n",
      "[ 91 102 103]\n",
      "[ 98 104  92]\n",
      "[112  99 105]\n",
      "[115 111 118]\n"
     ]
    }
   ],
   "source": [
    "for row in test2:\n",
    "    print(row)"
   ]
  },
  {
   "cell_type": "code",
   "execution_count": 31,
   "metadata": {},
   "outputs": [
    {
     "name": "stdout",
     "output_type": "stream",
     "text": [
      "[106 103 104]\n",
      "[ 96  93 106]\n",
      "[110 108 115]\n",
      "[117 106 114]\n",
      "[ 91 102 103]\n",
      "[ 98 104  92]\n",
      "[112  99 105]\n",
      "[115 111 118]\n"
     ]
    }
   ],
   "source": [
    "for i in range(len(test2)):\n",
    "    print(test2[i])"
   ]
  },
  {
   "cell_type": "code",
   "execution_count": 32,
   "metadata": {},
   "outputs": [
    {
     "data": {
      "text/plain": [
       "array([[11236, 10609, 10816],\n",
       "       [ 9216,  8649, 11236],\n",
       "       [12100, 11664, 13225],\n",
       "       [13689, 11236, 12996],\n",
       "       [ 8281, 10404, 10609],\n",
       "       [ 9604, 10816,  8464],\n",
       "       [12544,  9801, 11025],\n",
       "       [13225, 12321, 13924]], dtype=int32)"
      ]
     },
     "execution_count": 32,
     "metadata": {},
     "output_type": "execute_result"
    }
   ],
   "source": [
    "\n",
    "test3 = test2**2\n",
    "test3"
   ]
  },
  {
   "cell_type": "code",
   "execution_count": 33,
   "metadata": {},
   "outputs": [
    {
     "name": "stdout",
     "output_type": "stream",
     "text": [
      "[106 103 104] + [11236 10609 10816] = [11342 10712 10920]\n",
      "[ 96  93 106] + [ 9216  8649 11236] = [ 9312  8742 11342]\n",
      "[110 108 115] + [12100 11664 13225] = [12210 11772 13340]\n",
      "[117 106 114] + [13689 11236 12996] = [13806 11342 13110]\n",
      "[ 91 102 103] + [ 8281 10404 10609] = [ 8372 10506 10712]\n",
      "[ 98 104  92] + [ 9604 10816  8464] = [ 9702 10920  8556]\n",
      "[112  99 105] + [12544  9801 11025] = [12656  9900 11130]\n",
      "[115 111 118] + [13225 12321 13924] = [13340 12432 14042]\n"
     ]
    }
   ],
   "source": [
    "for i, j in zip(test2, test3):\n",
    "    print(i,'+',j,'=',i+j)"
   ]
  },
  {
   "cell_type": "code",
   "execution_count": null,
   "metadata": {},
   "outputs": [],
   "source": []
  }
 ],
 "metadata": {
  "kernelspec": {
   "display_name": "Python 3",
   "language": "python",
   "name": "python3"
  },
  "language_info": {
   "codemirror_mode": {
    "name": "ipython",
    "version": 3
   },
   "file_extension": ".py",
   "mimetype": "text/x-python",
   "name": "python",
   "nbconvert_exporter": "python",
   "pygments_lexer": "ipython3",
   "version": "3.7.4"
  }
 },
 "nbformat": 4,
 "nbformat_minor": 2
}
