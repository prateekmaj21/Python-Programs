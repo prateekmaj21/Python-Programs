{
 "cells": [
  {
   "cell_type": "markdown",
   "metadata": {},
   "source": [
    "# Rocket Launch"
   ]
  },
  {
   "cell_type": "markdown",
   "metadata": {},
   "source": [
    "Plans for a rocket launch occur over the course of years. So, NASA might have to choose a time and date several years before launch. If you've ever seen your local weather person or meteorologist, you know that sometimes it's hard to accurately predict weather even hours in advance.\n",
    "\n",
    "Because large amounts of data are now available, weather predictions are more accurate than in the past, even taking into account the changing climate. But the stakes during a rocket launch are very high. It's not just that the astronauts might get cold because they didn't know they should bring a jacket. If NASA schedules the launch on the wrong day, it can be life-threatening.\n",
    "\n",
    "The data has fields like-\n",
    "\n",
    "1. Conditions (cloudy, partly cloudy, fair, rain, thunder, heavy storm)\n",
    "2. Temperature\n",
    "3. Humidity\n",
    "4. Wind speed\n",
    "5. Wind direction\n",
    "6. Precipitation\n",
    "7. Visibility\n",
    "8. Sea level\n",
    "9. Pressure"
   ]
  },
  {
   "cell_type": "code",
   "execution_count": 1,
   "metadata": {},
   "outputs": [],
   "source": [
    "# Pandas library is used for handling tabular data\n",
    "import pandas as pd\n",
    "# NumPy is used for handling numerical series operations (addition, multiplication, and ...)\n",
    "import numpy as np\n",
    "# Sklearn library contains all the machine learning packages we need to digest and extract patterns from the data\n",
    "from sklearn import linear_model, model_selection, metrics\n",
    "from sklearn.model_selection import train_test_split\n",
    "\n",
    "# Machine learning libraries used to build a decision tree\n",
    "from sklearn.tree import DecisionTreeClassifier\n",
    "from sklearn import tree\n",
    "\n",
    "# Sklearn's preprocessing library is used for processing and cleaning the data \n",
    "from sklearn import preprocessing\n",
    "\n",
    "# for visualizing the tree\n",
    "import pydotplus\n",
    "from IPython.display import Image "
   ]
  },
  {
   "cell_type": "code",
   "execution_count": 2,
   "metadata": {},
   "outputs": [
    {
     "data": {
      "text/html": [
       "<div>\n",
       "<style scoped>\n",
       "    .dataframe tbody tr th:only-of-type {\n",
       "        vertical-align: middle;\n",
       "    }\n",
       "\n",
       "    .dataframe tbody tr th {\n",
       "        vertical-align: top;\n",
       "    }\n",
       "\n",
       "    .dataframe thead th {\n",
       "        text-align: right;\n",
       "    }\n",
       "</style>\n",
       "<table border=\"1\" class=\"dataframe\">\n",
       "  <thead>\n",
       "    <tr style=\"text-align: right;\">\n",
       "      <th></th>\n",
       "      <th>Name</th>\n",
       "      <th>Date</th>\n",
       "      <th>Time (East Coast)</th>\n",
       "      <th>Location</th>\n",
       "      <th>Crewed or Uncrewed</th>\n",
       "      <th>Launched?</th>\n",
       "      <th>High Temp</th>\n",
       "      <th>Low Temp</th>\n",
       "      <th>Ave Temp</th>\n",
       "      <th>Temp at Launch Time</th>\n",
       "      <th>...</th>\n",
       "      <th>Max Wind Speed</th>\n",
       "      <th>Visibility</th>\n",
       "      <th>Wind Speed at Launch Time</th>\n",
       "      <th>Hist Ave Max Wind Speed</th>\n",
       "      <th>Hist Ave Visibility</th>\n",
       "      <th>Sea Level Pressure</th>\n",
       "      <th>Hist Ave Sea Level Pressure</th>\n",
       "      <th>Day Length</th>\n",
       "      <th>Condition</th>\n",
       "      <th>Notes</th>\n",
       "    </tr>\n",
       "  </thead>\n",
       "  <tbody>\n",
       "    <tr>\n",
       "      <th>0</th>\n",
       "      <td>NaN</td>\n",
       "      <td>1958-12-04</td>\n",
       "      <td>NaN</td>\n",
       "      <td>Cape Canaveral</td>\n",
       "      <td>NaN</td>\n",
       "      <td>NaN</td>\n",
       "      <td>75.0</td>\n",
       "      <td>68.0</td>\n",
       "      <td>71.00</td>\n",
       "      <td>NaN</td>\n",
       "      <td>...</td>\n",
       "      <td>16.0</td>\n",
       "      <td>15.0</td>\n",
       "      <td>NaN</td>\n",
       "      <td>NaN</td>\n",
       "      <td>NaN</td>\n",
       "      <td>30.22</td>\n",
       "      <td>NaN</td>\n",
       "      <td>10:26:00</td>\n",
       "      <td>Cloudy</td>\n",
       "      <td>NaN</td>\n",
       "    </tr>\n",
       "    <tr>\n",
       "      <th>1</th>\n",
       "      <td>NaN</td>\n",
       "      <td>1958-12-05</td>\n",
       "      <td>NaN</td>\n",
       "      <td>Cape Canaveral</td>\n",
       "      <td>NaN</td>\n",
       "      <td>NaN</td>\n",
       "      <td>78.0</td>\n",
       "      <td>70.0</td>\n",
       "      <td>73.39</td>\n",
       "      <td>NaN</td>\n",
       "      <td>...</td>\n",
       "      <td>14.0</td>\n",
       "      <td>10.0</td>\n",
       "      <td>NaN</td>\n",
       "      <td>NaN</td>\n",
       "      <td>NaN</td>\n",
       "      <td>30.2</td>\n",
       "      <td>NaN</td>\n",
       "      <td>10:26:00</td>\n",
       "      <td>Cloudy</td>\n",
       "      <td>NaN</td>\n",
       "    </tr>\n",
       "  </tbody>\n",
       "</table>\n",
       "<p>2 rows × 26 columns</p>\n",
       "</div>"
      ],
      "text/plain": [
       "  Name       Date Time (East Coast)        Location Crewed or Uncrewed  \\\n",
       "0  NaN 1958-12-04               NaN  Cape Canaveral                NaN   \n",
       "1  NaN 1958-12-05               NaN  Cape Canaveral                NaN   \n",
       "\n",
       "  Launched?  High Temp  Low Temp  Ave Temp  Temp at Launch Time  ...  \\\n",
       "0       NaN       75.0      68.0     71.00                  NaN  ...   \n",
       "1       NaN       78.0      70.0     73.39                  NaN  ...   \n",
       "\n",
       "   Max Wind Speed  Visibility  Wind Speed at Launch Time  \\\n",
       "0            16.0        15.0                        NaN   \n",
       "1            14.0        10.0                        NaN   \n",
       "\n",
       "   Hist Ave Max Wind Speed  Hist Ave Visibility Sea Level Pressure  \\\n",
       "0                      NaN                  NaN              30.22   \n",
       "1                      NaN                  NaN               30.2   \n",
       "\n",
       "   Hist Ave Sea Level Pressure  Day Length  Condition  Notes  \n",
       "0                          NaN    10:26:00     Cloudy    NaN  \n",
       "1                          NaN    10:26:00     Cloudy    NaN  \n",
       "\n",
       "[2 rows x 26 columns]"
      ]
     },
     "execution_count": 2,
     "metadata": {},
     "output_type": "execute_result"
    }
   ],
   "source": [
    "launch_data = pd.read_excel('RocketLaunchDataCompleted.xlsx')\n",
    "launch_data.head(2)"
   ]
  },
  {
   "cell_type": "code",
   "execution_count": 3,
   "metadata": {},
   "outputs": [
    {
     "data": {
      "text/plain": [
       "Index(['Name', 'Date', 'Time (East Coast)', 'Location', 'Crewed or Uncrewed',\n",
       "       'Launched?', 'High Temp', 'Low Temp', 'Ave Temp', 'Temp at Launch Time',\n",
       "       'Hist High Temp', 'Hist Low Temp', 'Hist Ave Temp',\n",
       "       'Percipitation at Launch Time', 'Hist Ave Percipitation',\n",
       "       'Wind Direction', 'Max Wind Speed', 'Visibility',\n",
       "       'Wind Speed at Launch Time', 'Hist Ave Max Wind Speed',\n",
       "       'Hist Ave Visibility', 'Sea Level Pressure',\n",
       "       'Hist Ave Sea Level Pressure', 'Day Length', 'Condition', 'Notes'],\n",
       "      dtype='object')"
      ]
     },
     "execution_count": 3,
     "metadata": {},
     "output_type": "execute_result"
    }
   ],
   "source": [
    "launch_data.columns"
   ]
  },
  {
   "cell_type": "code",
   "execution_count": 4,
   "metadata": {},
   "outputs": [
    {
     "name": "stdout",
     "output_type": "stream",
     "text": [
      "<class 'pandas.core.frame.DataFrame'>\n",
      "RangeIndex: 300 entries, 0 to 299\n",
      "Data columns (total 26 columns):\n",
      "Name                            60 non-null object\n",
      "Date                            300 non-null datetime64[ns]\n",
      "Time (East Coast)               59 non-null object\n",
      "Location                        300 non-null object\n",
      "Crewed or Uncrewed              60 non-null object\n",
      "Launched?                       60 non-null object\n",
      "High Temp                       299 non-null float64\n",
      "Low Temp                        299 non-null float64\n",
      "Ave Temp                        299 non-null float64\n",
      "Temp at Launch Time             59 non-null float64\n",
      "Hist High Temp                  299 non-null float64\n",
      "Hist Low Temp                   299 non-null float64\n",
      "Hist Ave Temp                   299 non-null float64\n",
      "Percipitation at Launch Time    299 non-null float64\n",
      "Hist Ave Percipitation          299 non-null float64\n",
      "Wind Direction                  299 non-null object\n",
      "Max Wind Speed                  299 non-null float64\n",
      "Visibility                      299 non-null float64\n",
      "Wind Speed at Launch Time       59 non-null float64\n",
      "Hist Ave Max Wind Speed         0 non-null float64\n",
      "Hist Ave Visibility             0 non-null float64\n",
      "Sea Level Pressure              299 non-null object\n",
      "Hist Ave Sea Level Pressure     0 non-null float64\n",
      "Day Length                      298 non-null object\n",
      "Condition                       298 non-null object\n",
      "Notes                           3 non-null object\n",
      "dtypes: datetime64[ns](1), float64(15), object(10)\n",
      "memory usage: 61.1+ KB\n"
     ]
    }
   ],
   "source": [
    "launch_data.info()"
   ]
  },
  {
   "cell_type": "code",
   "execution_count": 5,
   "metadata": {},
   "outputs": [],
   "source": [
    "## To handle missing values, we will fill the missing values with appropriate values \n",
    "\n",
    "launch_data['Launched?']=launch_data['Launched?'].fillna('N')\n",
    "\n",
    "launch_data['Crewed or Uncrewed']=launch_data['Crewed or Uncrewed'].fillna('Uncrewed')\n",
    "\n",
    "launch_data['Wind Direction']=launch_data['Wind Direction'].fillna('unknown')\n",
    "\n",
    "launch_data['Condition']=launch_data['Condition'].fillna('Fair')\n",
    "\n",
    "launch_data=launch_data.fillna(0)"
   ]
  },
  {
   "cell_type": "code",
   "execution_count": 6,
   "metadata": {},
   "outputs": [
    {
     "data": {
      "text/html": [
       "<div>\n",
       "<style scoped>\n",
       "    .dataframe tbody tr th:only-of-type {\n",
       "        vertical-align: middle;\n",
       "    }\n",
       "\n",
       "    .dataframe tbody tr th {\n",
       "        vertical-align: top;\n",
       "    }\n",
       "\n",
       "    .dataframe thead th {\n",
       "        text-align: right;\n",
       "    }\n",
       "</style>\n",
       "<table border=\"1\" class=\"dataframe\">\n",
       "  <thead>\n",
       "    <tr style=\"text-align: right;\">\n",
       "      <th></th>\n",
       "      <th>Name</th>\n",
       "      <th>Date</th>\n",
       "      <th>Time (East Coast)</th>\n",
       "      <th>Location</th>\n",
       "      <th>Crewed or Uncrewed</th>\n",
       "      <th>Launched?</th>\n",
       "      <th>High Temp</th>\n",
       "      <th>Low Temp</th>\n",
       "      <th>Ave Temp</th>\n",
       "      <th>Temp at Launch Time</th>\n",
       "      <th>...</th>\n",
       "      <th>Max Wind Speed</th>\n",
       "      <th>Visibility</th>\n",
       "      <th>Wind Speed at Launch Time</th>\n",
       "      <th>Hist Ave Max Wind Speed</th>\n",
       "      <th>Hist Ave Visibility</th>\n",
       "      <th>Sea Level Pressure</th>\n",
       "      <th>Hist Ave Sea Level Pressure</th>\n",
       "      <th>Day Length</th>\n",
       "      <th>Condition</th>\n",
       "      <th>Notes</th>\n",
       "    </tr>\n",
       "  </thead>\n",
       "  <tbody>\n",
       "    <tr>\n",
       "      <th>0</th>\n",
       "      <td>0</td>\n",
       "      <td>1958-12-04</td>\n",
       "      <td>0</td>\n",
       "      <td>Cape Canaveral</td>\n",
       "      <td>Uncrewed</td>\n",
       "      <td>N</td>\n",
       "      <td>75.0</td>\n",
       "      <td>68.0</td>\n",
       "      <td>71.00</td>\n",
       "      <td>0.0</td>\n",
       "      <td>...</td>\n",
       "      <td>16.0</td>\n",
       "      <td>15.0</td>\n",
       "      <td>0.0</td>\n",
       "      <td>0.0</td>\n",
       "      <td>0.0</td>\n",
       "      <td>30.22</td>\n",
       "      <td>0.0</td>\n",
       "      <td>10:26:00</td>\n",
       "      <td>Cloudy</td>\n",
       "      <td>0</td>\n",
       "    </tr>\n",
       "    <tr>\n",
       "      <th>1</th>\n",
       "      <td>0</td>\n",
       "      <td>1958-12-05</td>\n",
       "      <td>0</td>\n",
       "      <td>Cape Canaveral</td>\n",
       "      <td>Uncrewed</td>\n",
       "      <td>N</td>\n",
       "      <td>78.0</td>\n",
       "      <td>70.0</td>\n",
       "      <td>73.39</td>\n",
       "      <td>0.0</td>\n",
       "      <td>...</td>\n",
       "      <td>14.0</td>\n",
       "      <td>10.0</td>\n",
       "      <td>0.0</td>\n",
       "      <td>0.0</td>\n",
       "      <td>0.0</td>\n",
       "      <td>30.2</td>\n",
       "      <td>0.0</td>\n",
       "      <td>10:26:00</td>\n",
       "      <td>Cloudy</td>\n",
       "      <td>0</td>\n",
       "    </tr>\n",
       "    <tr>\n",
       "      <th>2</th>\n",
       "      <td>Pioneer 3</td>\n",
       "      <td>1958-12-06</td>\n",
       "      <td>01:45:00</td>\n",
       "      <td>Cape Canaveral</td>\n",
       "      <td>Uncrewed</td>\n",
       "      <td>Y</td>\n",
       "      <td>73.0</td>\n",
       "      <td>0.0</td>\n",
       "      <td>60.21</td>\n",
       "      <td>62.0</td>\n",
       "      <td>...</td>\n",
       "      <td>15.0</td>\n",
       "      <td>10.0</td>\n",
       "      <td>11.0</td>\n",
       "      <td>0.0</td>\n",
       "      <td>0.0</td>\n",
       "      <td>30.25</td>\n",
       "      <td>0.0</td>\n",
       "      <td>10:25:00</td>\n",
       "      <td>Cloudy</td>\n",
       "      <td>0</td>\n",
       "    </tr>\n",
       "    <tr>\n",
       "      <th>3</th>\n",
       "      <td>0</td>\n",
       "      <td>1958-12-07</td>\n",
       "      <td>0</td>\n",
       "      <td>Cape Canaveral</td>\n",
       "      <td>Uncrewed</td>\n",
       "      <td>N</td>\n",
       "      <td>76.0</td>\n",
       "      <td>57.0</td>\n",
       "      <td>66.04</td>\n",
       "      <td>0.0</td>\n",
       "      <td>...</td>\n",
       "      <td>10.0</td>\n",
       "      <td>10.0</td>\n",
       "      <td>0.0</td>\n",
       "      <td>0.0</td>\n",
       "      <td>0.0</td>\n",
       "      <td>30.28</td>\n",
       "      <td>0.0</td>\n",
       "      <td>10:25:00</td>\n",
       "      <td>Partly Cloudy</td>\n",
       "      <td>0</td>\n",
       "    </tr>\n",
       "    <tr>\n",
       "      <th>4</th>\n",
       "      <td>0</td>\n",
       "      <td>1958-12-08</td>\n",
       "      <td>0</td>\n",
       "      <td>Cape Canaveral</td>\n",
       "      <td>Uncrewed</td>\n",
       "      <td>N</td>\n",
       "      <td>79.0</td>\n",
       "      <td>60.0</td>\n",
       "      <td>70.52</td>\n",
       "      <td>0.0</td>\n",
       "      <td>...</td>\n",
       "      <td>12.0</td>\n",
       "      <td>10.0</td>\n",
       "      <td>0.0</td>\n",
       "      <td>0.0</td>\n",
       "      <td>0.0</td>\n",
       "      <td>30.23</td>\n",
       "      <td>0.0</td>\n",
       "      <td>12:24:00</td>\n",
       "      <td>Partly Cloudy</td>\n",
       "      <td>0</td>\n",
       "    </tr>\n",
       "  </tbody>\n",
       "</table>\n",
       "<p>5 rows × 26 columns</p>\n",
       "</div>"
      ],
      "text/plain": [
       "        Name       Date Time (East Coast)        Location Crewed or Uncrewed  \\\n",
       "0          0 1958-12-04                 0  Cape Canaveral           Uncrewed   \n",
       "1          0 1958-12-05                 0  Cape Canaveral           Uncrewed   \n",
       "2  Pioneer 3 1958-12-06          01:45:00  Cape Canaveral           Uncrewed   \n",
       "3          0 1958-12-07                 0  Cape Canaveral           Uncrewed   \n",
       "4          0 1958-12-08                 0  Cape Canaveral           Uncrewed   \n",
       "\n",
       "  Launched?  High Temp  Low Temp  Ave Temp  Temp at Launch Time  ...  \\\n",
       "0         N       75.0      68.0     71.00                  0.0  ...   \n",
       "1         N       78.0      70.0     73.39                  0.0  ...   \n",
       "2         Y       73.0       0.0     60.21                 62.0  ...   \n",
       "3         N       76.0      57.0     66.04                  0.0  ...   \n",
       "4         N       79.0      60.0     70.52                  0.0  ...   \n",
       "\n",
       "   Max Wind Speed  Visibility  Wind Speed at Launch Time  \\\n",
       "0            16.0        15.0                        0.0   \n",
       "1            14.0        10.0                        0.0   \n",
       "2            15.0        10.0                       11.0   \n",
       "3            10.0        10.0                        0.0   \n",
       "4            12.0        10.0                        0.0   \n",
       "\n",
       "   Hist Ave Max Wind Speed  Hist Ave Visibility Sea Level Pressure  \\\n",
       "0                      0.0                  0.0              30.22   \n",
       "1                      0.0                  0.0               30.2   \n",
       "2                      0.0                  0.0              30.25   \n",
       "3                      0.0                  0.0              30.28   \n",
       "4                      0.0                  0.0              30.23   \n",
       "\n",
       "   Hist Ave Sea Level Pressure  Day Length      Condition  Notes  \n",
       "0                          0.0    10:26:00         Cloudy      0  \n",
       "1                          0.0    10:26:00         Cloudy      0  \n",
       "2                          0.0    10:25:00         Cloudy      0  \n",
       "3                          0.0    10:25:00  Partly Cloudy      0  \n",
       "4                          0.0    12:24:00  Partly Cloudy      0  \n",
       "\n",
       "[5 rows x 26 columns]"
      ]
     },
     "execution_count": 6,
     "metadata": {},
     "output_type": "execute_result"
    }
   ],
   "source": [
    "launch_data.head()"
   ]
  },
  {
   "cell_type": "code",
   "execution_count": 7,
   "metadata": {},
   "outputs": [
    {
     "data": {
      "text/html": [
       "<div>\n",
       "<style scoped>\n",
       "    .dataframe tbody tr th:only-of-type {\n",
       "        vertical-align: middle;\n",
       "    }\n",
       "\n",
       "    .dataframe tbody tr th {\n",
       "        vertical-align: top;\n",
       "    }\n",
       "\n",
       "    .dataframe thead th {\n",
       "        text-align: right;\n",
       "    }\n",
       "</style>\n",
       "<table border=\"1\" class=\"dataframe\">\n",
       "  <thead>\n",
       "    <tr style=\"text-align: right;\">\n",
       "      <th></th>\n",
       "      <th>Name</th>\n",
       "      <th>Date</th>\n",
       "      <th>Time (East Coast)</th>\n",
       "      <th>Location</th>\n",
       "      <th>Crewed or Uncrewed</th>\n",
       "      <th>Launched?</th>\n",
       "      <th>High Temp</th>\n",
       "      <th>Low Temp</th>\n",
       "      <th>Ave Temp</th>\n",
       "      <th>Temp at Launch Time</th>\n",
       "      <th>...</th>\n",
       "      <th>Max Wind Speed</th>\n",
       "      <th>Visibility</th>\n",
       "      <th>Wind Speed at Launch Time</th>\n",
       "      <th>Hist Ave Max Wind Speed</th>\n",
       "      <th>Hist Ave Visibility</th>\n",
       "      <th>Sea Level Pressure</th>\n",
       "      <th>Hist Ave Sea Level Pressure</th>\n",
       "      <th>Day Length</th>\n",
       "      <th>Condition</th>\n",
       "      <th>Notes</th>\n",
       "    </tr>\n",
       "  </thead>\n",
       "  <tbody>\n",
       "    <tr>\n",
       "      <th>0</th>\n",
       "      <td>0</td>\n",
       "      <td>1958-12-04</td>\n",
       "      <td>0</td>\n",
       "      <td>Cape Canaveral</td>\n",
       "      <td>Uncrewed</td>\n",
       "      <td>N</td>\n",
       "      <td>75.0</td>\n",
       "      <td>68.0</td>\n",
       "      <td>71.00</td>\n",
       "      <td>0.0</td>\n",
       "      <td>...</td>\n",
       "      <td>16.0</td>\n",
       "      <td>15.0</td>\n",
       "      <td>0.0</td>\n",
       "      <td>0.0</td>\n",
       "      <td>0.0</td>\n",
       "      <td>30.22</td>\n",
       "      <td>0.0</td>\n",
       "      <td>10:26:00</td>\n",
       "      <td>Cloudy</td>\n",
       "      <td>0</td>\n",
       "    </tr>\n",
       "    <tr>\n",
       "      <th>1</th>\n",
       "      <td>0</td>\n",
       "      <td>1958-12-05</td>\n",
       "      <td>0</td>\n",
       "      <td>Cape Canaveral</td>\n",
       "      <td>Uncrewed</td>\n",
       "      <td>N</td>\n",
       "      <td>78.0</td>\n",
       "      <td>70.0</td>\n",
       "      <td>73.39</td>\n",
       "      <td>0.0</td>\n",
       "      <td>...</td>\n",
       "      <td>14.0</td>\n",
       "      <td>10.0</td>\n",
       "      <td>0.0</td>\n",
       "      <td>0.0</td>\n",
       "      <td>0.0</td>\n",
       "      <td>30.2</td>\n",
       "      <td>0.0</td>\n",
       "      <td>10:26:00</td>\n",
       "      <td>Cloudy</td>\n",
       "      <td>0</td>\n",
       "    </tr>\n",
       "    <tr>\n",
       "      <th>2</th>\n",
       "      <td>Pioneer 3</td>\n",
       "      <td>1958-12-06</td>\n",
       "      <td>01:45:00</td>\n",
       "      <td>Cape Canaveral</td>\n",
       "      <td>Uncrewed</td>\n",
       "      <td>Y</td>\n",
       "      <td>73.0</td>\n",
       "      <td>0.0</td>\n",
       "      <td>60.21</td>\n",
       "      <td>62.0</td>\n",
       "      <td>...</td>\n",
       "      <td>15.0</td>\n",
       "      <td>10.0</td>\n",
       "      <td>11.0</td>\n",
       "      <td>0.0</td>\n",
       "      <td>0.0</td>\n",
       "      <td>30.25</td>\n",
       "      <td>0.0</td>\n",
       "      <td>10:25:00</td>\n",
       "      <td>Cloudy</td>\n",
       "      <td>0</td>\n",
       "    </tr>\n",
       "    <tr>\n",
       "      <th>3</th>\n",
       "      <td>0</td>\n",
       "      <td>1958-12-07</td>\n",
       "      <td>0</td>\n",
       "      <td>Cape Canaveral</td>\n",
       "      <td>Uncrewed</td>\n",
       "      <td>N</td>\n",
       "      <td>76.0</td>\n",
       "      <td>57.0</td>\n",
       "      <td>66.04</td>\n",
       "      <td>0.0</td>\n",
       "      <td>...</td>\n",
       "      <td>10.0</td>\n",
       "      <td>10.0</td>\n",
       "      <td>0.0</td>\n",
       "      <td>0.0</td>\n",
       "      <td>0.0</td>\n",
       "      <td>30.28</td>\n",
       "      <td>0.0</td>\n",
       "      <td>10:25:00</td>\n",
       "      <td>Partly Cloudy</td>\n",
       "      <td>0</td>\n",
       "    </tr>\n",
       "    <tr>\n",
       "      <th>4</th>\n",
       "      <td>0</td>\n",
       "      <td>1958-12-08</td>\n",
       "      <td>0</td>\n",
       "      <td>Cape Canaveral</td>\n",
       "      <td>Uncrewed</td>\n",
       "      <td>N</td>\n",
       "      <td>79.0</td>\n",
       "      <td>60.0</td>\n",
       "      <td>70.52</td>\n",
       "      <td>0.0</td>\n",
       "      <td>...</td>\n",
       "      <td>12.0</td>\n",
       "      <td>10.0</td>\n",
       "      <td>0.0</td>\n",
       "      <td>0.0</td>\n",
       "      <td>0.0</td>\n",
       "      <td>30.23</td>\n",
       "      <td>0.0</td>\n",
       "      <td>12:24:00</td>\n",
       "      <td>Partly Cloudy</td>\n",
       "      <td>0</td>\n",
       "    </tr>\n",
       "  </tbody>\n",
       "</table>\n",
       "<p>5 rows × 26 columns</p>\n",
       "</div>"
      ],
      "text/plain": [
       "        Name       Date Time (East Coast)        Location Crewed or Uncrewed  \\\n",
       "0          0 1958-12-04                 0  Cape Canaveral           Uncrewed   \n",
       "1          0 1958-12-05                 0  Cape Canaveral           Uncrewed   \n",
       "2  Pioneer 3 1958-12-06          01:45:00  Cape Canaveral           Uncrewed   \n",
       "3          0 1958-12-07                 0  Cape Canaveral           Uncrewed   \n",
       "4          0 1958-12-08                 0  Cape Canaveral           Uncrewed   \n",
       "\n",
       "  Launched?  High Temp  Low Temp  Ave Temp  Temp at Launch Time  ...  \\\n",
       "0         N       75.0      68.0     71.00                  0.0  ...   \n",
       "1         N       78.0      70.0     73.39                  0.0  ...   \n",
       "2         Y       73.0       0.0     60.21                 62.0  ...   \n",
       "3         N       76.0      57.0     66.04                  0.0  ...   \n",
       "4         N       79.0      60.0     70.52                  0.0  ...   \n",
       "\n",
       "   Max Wind Speed  Visibility  Wind Speed at Launch Time  \\\n",
       "0            16.0        15.0                        0.0   \n",
       "1            14.0        10.0                        0.0   \n",
       "2            15.0        10.0                       11.0   \n",
       "3            10.0        10.0                        0.0   \n",
       "4            12.0        10.0                        0.0   \n",
       "\n",
       "   Hist Ave Max Wind Speed  Hist Ave Visibility Sea Level Pressure  \\\n",
       "0                      0.0                  0.0              30.22   \n",
       "1                      0.0                  0.0               30.2   \n",
       "2                      0.0                  0.0              30.25   \n",
       "3                      0.0                  0.0              30.28   \n",
       "4                      0.0                  0.0              30.23   \n",
       "\n",
       "   Hist Ave Sea Level Pressure  Day Length      Condition  Notes  \n",
       "0                          0.0    10:26:00         Cloudy      0  \n",
       "1                          0.0    10:26:00         Cloudy      0  \n",
       "2                          0.0    10:25:00         Cloudy      0  \n",
       "3                          0.0    10:25:00  Partly Cloudy      0  \n",
       "4                          0.0    12:24:00  Partly Cloudy      0  \n",
       "\n",
       "[5 rows x 26 columns]"
      ]
     },
     "execution_count": 7,
     "metadata": {},
     "output_type": "execute_result"
    }
   ],
   "source": [
    "launch_data.head()"
   ]
  },
  {
   "cell_type": "markdown",
   "metadata": {},
   "source": [
    "# Data Analysis"
   ]
  },
  {
   "cell_type": "code",
   "execution_count": 8,
   "metadata": {},
   "outputs": [],
   "source": [
    "import seaborn as sns\n",
    "import matplotlib.pyplot as plt\n",
    "%matplotlib inline"
   ]
  },
  {
   "cell_type": "code",
   "execution_count": 9,
   "metadata": {},
   "outputs": [
    {
     "data": {
      "text/plain": [
       "<matplotlib.axes._subplots.AxesSubplot at 0x1ea5a4e11c8>"
      ]
     },
     "execution_count": 9,
     "metadata": {},
     "output_type": "execute_result"
    },
    {
     "data": {
      "image/png": "[encoded data removed]",
      "text/plain": [
       "<Figure size 864x432 with 1 Axes>"
      ]
     },
     "metadata": {
      "needs_background": "light"
     },
     "output_type": "display_data"
    }
   ],
   "source": [
    "plt.figure(figsize=(12, 6))\n",
    "sns.distplot(launch_data[\"High Temp\"])"
   ]
  },
  {
   "cell_type": "code",
   "execution_count": 10,
   "metadata": {},
   "outputs": [
    {
     "data": {
      "text/plain": [
       "<matplotlib.axes._subplots.AxesSubplot at 0x1ea5a988d48>"
      ]
     },
     "execution_count": 10,
     "metadata": {},
     "output_type": "execute_result"
    },
    {
     "data": {
      "image/png": "[encoded data removed]",
      "text/plain": [
       "<Figure size 864x432 with 1 Axes>"
      ]
     },
     "metadata": {
      "needs_background": "light"
     },
     "output_type": "display_data"
    }
   ],
   "source": [
    "plt.figure(figsize=(12, 6))\n",
    "sns.distplot(launch_data[\"Low Temp\"])"
   ]
  },
  {
   "cell_type": "code",
   "execution_count": 11,
   "metadata": {},
   "outputs": [
    {
     "data": {
      "text/plain": [
       "<matplotlib.axes._subplots.AxesSubplot at 0x1ea5a81ae48>"
      ]
     },
     "execution_count": 11,
     "metadata": {},
     "output_type": "execute_result"
    },
    {
     "data": {
      "image/png": "[encoded data removed]",
      "text/plain": [
       "<Figure size 864x432 with 1 Axes>"
      ]
     },
     "metadata": {
      "needs_background": "light"
     },
     "output_type": "display_data"
    }
   ],
   "source": [
    "plt.figure(figsize=(12, 6))\n",
    "sns.distplot(launch_data[\"Ave Temp\"])"
   ]
  },
  {
   "cell_type": "code",
   "execution_count": 12,
   "metadata": {},
   "outputs": [
    {
     "data": {
      "text/plain": [
       "<matplotlib.axes._subplots.AxesSubplot at 0x1ea5a81a848>"
      ]
     },
     "execution_count": 12,
     "metadata": {},
     "output_type": "execute_result"
    },
    {
     "data": {
      "image/png": "[encoded data removed]",
      "text/plain": [
       "<Figure size 864x432 with 1 Axes>"
      ]
     },
     "metadata": {
      "needs_background": "light"
     },
     "output_type": "display_data"
    }
   ],
   "source": [
    "plt.figure(figsize=(12, 6))\n",
    "sns.distplot(launch_data[\"Max Wind Speed\"])"
   ]
  },
  {
   "cell_type": "code",
   "execution_count": 13,
   "metadata": {},
   "outputs": [],
   "source": [
    "## As part of the data cleaning process, we have to convert text data to numerical because computers understand only numbers\n",
    "label_encoder = preprocessing.LabelEncoder()\n",
    "\n",
    "# Three columns have categorical text info, and we convert them to numbers\n",
    "launch_data['Crewed or Uncrewed'] = label_encoder.fit_transform(launch_data['Crewed or Uncrewed'])\n",
    "launch_data['Wind Direction'] = label_encoder.fit_transform(launch_data['Wind Direction'])\n",
    "launch_data['Condition'] = label_encoder.fit_transform(launch_data['Condition'])"
   ]
  },
  {
   "cell_type": "code",
   "execution_count": 14,
   "metadata": {},
   "outputs": [
    {
     "name": "stdout",
     "output_type": "stream",
     "text": [
      "<class 'pandas.core.frame.DataFrame'>\n",
      "RangeIndex: 300 entries, 0 to 299\n",
      "Data columns (total 26 columns):\n",
      "Name                            300 non-null object\n",
      "Date                            300 non-null datetime64[ns]\n",
      "Time (East Coast)               300 non-null object\n",
      "Location                        300 non-null object\n",
      "Crewed or Uncrewed              300 non-null int32\n",
      "Launched?                       300 non-null object\n",
      "High Temp                       300 non-null float64\n",
      "Low Temp                        300 non-null float64\n",
      "Ave Temp                        300 non-null float64\n",
      "Temp at Launch Time             300 non-null float64\n",
      "Hist High Temp                  300 non-null float64\n",
      "Hist Low Temp                   300 non-null float64\n",
      "Hist Ave Temp                   300 non-null float64\n",
      "Percipitation at Launch Time    300 non-null float64\n",
      "Hist Ave Percipitation          300 non-null float64\n",
      "Wind Direction                  300 non-null int32\n",
      "Max Wind Speed                  300 non-null float64\n",
      "Visibility                      300 non-null float64\n",
      "Wind Speed at Launch Time       300 non-null float64\n",
      "Hist Ave Max Wind Speed         300 non-null float64\n",
      "Hist Ave Visibility             300 non-null float64\n",
      "Sea Level Pressure              300 non-null object\n",
      "Hist Ave Sea Level Pressure     300 non-null float64\n",
      "Day Length                      300 non-null object\n",
      "Condition                       300 non-null int32\n",
      "Notes                           300 non-null object\n",
      "dtypes: datetime64[ns](1), float64(15), int32(3), object(7)\n",
      "memory usage: 57.5+ KB\n"
     ]
    }
   ],
   "source": [
    "launch_data.info()"
   ]
  },
  {
   "cell_type": "code",
   "execution_count": 15,
   "metadata": {},
   "outputs": [],
   "source": [
    "# First, we save the output we are interested in. In this case, \"launch\" yes and no's go into the output variable.\n",
    "y = launch_data['Launched?']\n",
    "\n",
    "# Removing the columns we are not interested in\n",
    "launch_data=launch_data.drop(['Name','Date','Time (East Coast)','Location','Launched?','Hist Ave Sea Level Pressure','Sea Level Pressure','Day Length','Notes','Hist Ave Visibility', 'Hist Ave Max Wind Speed'],axis=1)\n",
    "\n",
    "# Saving the rest of the data as input data\n",
    "X = launch_data"
   ]
  },
  {
   "cell_type": "code",
   "execution_count": 16,
   "metadata": {},
   "outputs": [
    {
     "data": {
      "text/html": [
       "<div>\n",
       "<style scoped>\n",
       "    .dataframe tbody tr th:only-of-type {\n",
       "        vertical-align: middle;\n",
       "    }\n",
       "\n",
       "    .dataframe tbody tr th {\n",
       "        vertical-align: top;\n",
       "    }\n",
       "\n",
       "    .dataframe thead th {\n",
       "        text-align: right;\n",
       "    }\n",
       "</style>\n",
       "<table border=\"1\" class=\"dataframe\">\n",
       "  <thead>\n",
       "    <tr style=\"text-align: right;\">\n",
       "      <th></th>\n",
       "      <th>Crewed or Uncrewed</th>\n",
       "      <th>High Temp</th>\n",
       "      <th>Low Temp</th>\n",
       "      <th>Ave Temp</th>\n",
       "      <th>Temp at Launch Time</th>\n",
       "      <th>Hist High Temp</th>\n",
       "      <th>Hist Low Temp</th>\n",
       "      <th>Hist Ave Temp</th>\n",
       "      <th>Percipitation at Launch Time</th>\n",
       "      <th>Hist Ave Percipitation</th>\n",
       "      <th>Wind Direction</th>\n",
       "      <th>Max Wind Speed</th>\n",
       "      <th>Visibility</th>\n",
       "      <th>Wind Speed at Launch Time</th>\n",
       "      <th>Condition</th>\n",
       "    </tr>\n",
       "  </thead>\n",
       "  <tbody>\n",
       "    <tr>\n",
       "      <th>0</th>\n",
       "      <td>1</td>\n",
       "      <td>75.0</td>\n",
       "      <td>68.0</td>\n",
       "      <td>71.00</td>\n",
       "      <td>0.0</td>\n",
       "      <td>75.0</td>\n",
       "      <td>55.0</td>\n",
       "      <td>65.0</td>\n",
       "      <td>0.00</td>\n",
       "      <td>0.08</td>\n",
       "      <td>0</td>\n",
       "      <td>16.0</td>\n",
       "      <td>15.0</td>\n",
       "      <td>0.0</td>\n",
       "      <td>0</td>\n",
       "    </tr>\n",
       "    <tr>\n",
       "      <th>1</th>\n",
       "      <td>1</td>\n",
       "      <td>78.0</td>\n",
       "      <td>70.0</td>\n",
       "      <td>73.39</td>\n",
       "      <td>0.0</td>\n",
       "      <td>75.0</td>\n",
       "      <td>55.0</td>\n",
       "      <td>65.0</td>\n",
       "      <td>0.00</td>\n",
       "      <td>0.09</td>\n",
       "      <td>0</td>\n",
       "      <td>14.0</td>\n",
       "      <td>10.0</td>\n",
       "      <td>0.0</td>\n",
       "      <td>0</td>\n",
       "    </tr>\n",
       "    <tr>\n",
       "      <th>2</th>\n",
       "      <td>1</td>\n",
       "      <td>73.0</td>\n",
       "      <td>0.0</td>\n",
       "      <td>60.21</td>\n",
       "      <td>62.0</td>\n",
       "      <td>75.0</td>\n",
       "      <td>55.0</td>\n",
       "      <td>65.0</td>\n",
       "      <td>0.00</td>\n",
       "      <td>0.09</td>\n",
       "      <td>2</td>\n",
       "      <td>15.0</td>\n",
       "      <td>10.0</td>\n",
       "      <td>11.0</td>\n",
       "      <td>0</td>\n",
       "    </tr>\n",
       "    <tr>\n",
       "      <th>3</th>\n",
       "      <td>1</td>\n",
       "      <td>76.0</td>\n",
       "      <td>57.0</td>\n",
       "      <td>66.04</td>\n",
       "      <td>0.0</td>\n",
       "      <td>75.0</td>\n",
       "      <td>55.0</td>\n",
       "      <td>65.0</td>\n",
       "      <td>0.00</td>\n",
       "      <td>0.08</td>\n",
       "      <td>1</td>\n",
       "      <td>10.0</td>\n",
       "      <td>10.0</td>\n",
       "      <td>0.0</td>\n",
       "      <td>6</td>\n",
       "    </tr>\n",
       "    <tr>\n",
       "      <th>4</th>\n",
       "      <td>1</td>\n",
       "      <td>79.0</td>\n",
       "      <td>60.0</td>\n",
       "      <td>70.52</td>\n",
       "      <td>0.0</td>\n",
       "      <td>75.0</td>\n",
       "      <td>55.0</td>\n",
       "      <td>65.0</td>\n",
       "      <td>0.00</td>\n",
       "      <td>0.09</td>\n",
       "      <td>0</td>\n",
       "      <td>12.0</td>\n",
       "      <td>10.0</td>\n",
       "      <td>0.0</td>\n",
       "      <td>6</td>\n",
       "    </tr>\n",
       "    <tr>\n",
       "      <th>...</th>\n",
       "      <td>...</td>\n",
       "      <td>...</td>\n",
       "      <td>...</td>\n",
       "      <td>...</td>\n",
       "      <td>...</td>\n",
       "      <td>...</td>\n",
       "      <td>...</td>\n",
       "      <td>...</td>\n",
       "      <td>...</td>\n",
       "      <td>...</td>\n",
       "      <td>...</td>\n",
       "      <td>...</td>\n",
       "      <td>...</td>\n",
       "      <td>...</td>\n",
       "      <td>...</td>\n",
       "    </tr>\n",
       "    <tr>\n",
       "      <th>295</th>\n",
       "      <td>1</td>\n",
       "      <td>87.0</td>\n",
       "      <td>71.0</td>\n",
       "      <td>79.36</td>\n",
       "      <td>0.0</td>\n",
       "      <td>87.0</td>\n",
       "      <td>70.0</td>\n",
       "      <td>79.0</td>\n",
       "      <td>0.00</td>\n",
       "      <td>0.15</td>\n",
       "      <td>4</td>\n",
       "      <td>20.0</td>\n",
       "      <td>10.0</td>\n",
       "      <td>0.0</td>\n",
       "      <td>9</td>\n",
       "    </tr>\n",
       "    <tr>\n",
       "      <th>296</th>\n",
       "      <td>1</td>\n",
       "      <td>86.0</td>\n",
       "      <td>72.0</td>\n",
       "      <td>79.50</td>\n",
       "      <td>0.0</td>\n",
       "      <td>88.0</td>\n",
       "      <td>70.0</td>\n",
       "      <td>79.0</td>\n",
       "      <td>0.01</td>\n",
       "      <td>0.16</td>\n",
       "      <td>5</td>\n",
       "      <td>18.0</td>\n",
       "      <td>10.0</td>\n",
       "      <td>0.0</td>\n",
       "      <td>1</td>\n",
       "    </tr>\n",
       "    <tr>\n",
       "      <th>297</th>\n",
       "      <td>0</td>\n",
       "      <td>87.0</td>\n",
       "      <td>75.0</td>\n",
       "      <td>79.69</td>\n",
       "      <td>80.0</td>\n",
       "      <td>88.0</td>\n",
       "      <td>70.0</td>\n",
       "      <td>79.0</td>\n",
       "      <td>0.00</td>\n",
       "      <td>0.16</td>\n",
       "      <td>5</td>\n",
       "      <td>16.0</td>\n",
       "      <td>10.0</td>\n",
       "      <td>7.0</td>\n",
       "      <td>1</td>\n",
       "    </tr>\n",
       "    <tr>\n",
       "      <th>298</th>\n",
       "      <td>1</td>\n",
       "      <td>87.0</td>\n",
       "      <td>72.0</td>\n",
       "      <td>79.70</td>\n",
       "      <td>0.0</td>\n",
       "      <td>88.0</td>\n",
       "      <td>70.0</td>\n",
       "      <td>79.0</td>\n",
       "      <td>0.46</td>\n",
       "      <td>0.16</td>\n",
       "      <td>0</td>\n",
       "      <td>13.0</td>\n",
       "      <td>10.0</td>\n",
       "      <td>0.0</td>\n",
       "      <td>0</td>\n",
       "    </tr>\n",
       "    <tr>\n",
       "      <th>299</th>\n",
       "      <td>1</td>\n",
       "      <td>85.0</td>\n",
       "      <td>76.0</td>\n",
       "      <td>80.31</td>\n",
       "      <td>0.0</td>\n",
       "      <td>88.0</td>\n",
       "      <td>70.0</td>\n",
       "      <td>79.0</td>\n",
       "      <td>0.00</td>\n",
       "      <td>0.19</td>\n",
       "      <td>0</td>\n",
       "      <td>16.0</td>\n",
       "      <td>10.0</td>\n",
       "      <td>0.0</td>\n",
       "      <td>0</td>\n",
       "    </tr>\n",
       "  </tbody>\n",
       "</table>\n",
       "<p>300 rows × 15 columns</p>\n",
       "</div>"
      ],
      "text/plain": [
       "     Crewed or Uncrewed  High Temp  Low Temp  Ave Temp  Temp at Launch Time  \\\n",
       "0                     1       75.0      68.0     71.00                  0.0   \n",
       "1                     1       78.0      70.0     73.39                  0.0   \n",
       "2                     1       73.0       0.0     60.21                 62.0   \n",
       "3                     1       76.0      57.0     66.04                  0.0   \n",
       "4                     1       79.0      60.0     70.52                  0.0   \n",
       "..                  ...        ...       ...       ...                  ...   \n",
       "295                   1       87.0      71.0     79.36                  0.0   \n",
       "296                   1       86.0      72.0     79.50                  0.0   \n",
       "297                   0       87.0      75.0     79.69                 80.0   \n",
       "298                   1       87.0      72.0     79.70                  0.0   \n",
       "299                   1       85.0      76.0     80.31                  0.0   \n",
       "\n",
       "     Hist High Temp  Hist Low Temp  Hist Ave Temp  \\\n",
       "0              75.0           55.0           65.0   \n",
       "1              75.0           55.0           65.0   \n",
       "2              75.0           55.0           65.0   \n",
       "3              75.0           55.0           65.0   \n",
       "4              75.0           55.0           65.0   \n",
       "..              ...            ...            ...   \n",
       "295            87.0           70.0           79.0   \n",
       "296            88.0           70.0           79.0   \n",
       "297            88.0           70.0           79.0   \n",
       "298            88.0           70.0           79.0   \n",
       "299            88.0           70.0           79.0   \n",
       "\n",
       "     Percipitation at Launch Time  Hist Ave Percipitation  Wind Direction  \\\n",
       "0                            0.00                    0.08               0   \n",
       "1                            0.00                    0.09               0   \n",
       "2                            0.00                    0.09               2   \n",
       "3                            0.00                    0.08               1   \n",
       "4                            0.00                    0.09               0   \n",
       "..                            ...                     ...             ...   \n",
       "295                          0.00                    0.15               4   \n",
       "296                          0.01                    0.16               5   \n",
       "297                          0.00                    0.16               5   \n",
       "298                          0.46                    0.16               0   \n",
       "299                          0.00                    0.19               0   \n",
       "\n",
       "     Max Wind Speed  Visibility  Wind Speed at Launch Time  Condition  \n",
       "0              16.0        15.0                        0.0          0  \n",
       "1              14.0        10.0                        0.0          0  \n",
       "2              15.0        10.0                       11.0          0  \n",
       "3              10.0        10.0                        0.0          6  \n",
       "4              12.0        10.0                        0.0          6  \n",
       "..              ...         ...                        ...        ...  \n",
       "295            20.0        10.0                        0.0          9  \n",
       "296            18.0        10.0                        0.0          1  \n",
       "297            16.0        10.0                        7.0          1  \n",
       "298            13.0        10.0                        0.0          0  \n",
       "299            16.0        10.0                        0.0          0  \n",
       "\n",
       "[300 rows x 15 columns]"
      ]
     },
     "execution_count": 16,
     "metadata": {},
     "output_type": "execute_result"
    }
   ],
   "source": [
    "X"
   ]
  },
  {
   "cell_type": "code",
   "execution_count": 17,
   "metadata": {},
   "outputs": [
    {
     "data": {
      "text/plain": [
       "Index(['Crewed or Uncrewed', 'High Temp', 'Low Temp', 'Ave Temp',\n",
       "       'Temp at Launch Time', 'Hist High Temp', 'Hist Low Temp',\n",
       "       'Hist Ave Temp', 'Percipitation at Launch Time',\n",
       "       'Hist Ave Percipitation', 'Wind Direction', 'Max Wind Speed',\n",
       "       'Visibility', 'Wind Speed at Launch Time', 'Condition'],\n",
       "      dtype='object')"
      ]
     },
     "execution_count": 17,
     "metadata": {},
     "output_type": "execute_result"
    }
   ],
   "source": [
    "# List of variables that our machine learning algorithm is going to look at:\n",
    "X.columns"
   ]
  },
  {
   "cell_type": "code",
   "execution_count": 18,
   "metadata": {},
   "outputs": [
    {
     "data": {
      "text/plain": [
       "0      N\n",
       "1      N\n",
       "2      Y\n",
       "3      N\n",
       "4      N\n",
       "      ..\n",
       "295    N\n",
       "296    N\n",
       "297    Y\n",
       "298    N\n",
       "299    N\n",
       "Name: Launched?, Length: 300, dtype: object"
      ]
     },
     "execution_count": 18,
     "metadata": {},
     "output_type": "execute_result"
    }
   ],
   "source": [
    "y"
   ]
  },
  {
   "cell_type": "code",
   "execution_count": 19,
   "metadata": {},
   "outputs": [
    {
     "name": "stdout",
     "output_type": "stream",
     "text": [
      "<class 'pandas.core.frame.DataFrame'>\n",
      "RangeIndex: 300 entries, 0 to 299\n",
      "Data columns (total 15 columns):\n",
      "Crewed or Uncrewed              300 non-null int32\n",
      "High Temp                       300 non-null float64\n",
      "Low Temp                        300 non-null float64\n",
      "Ave Temp                        300 non-null float64\n",
      "Temp at Launch Time             300 non-null float64\n",
      "Hist High Temp                  300 non-null float64\n",
      "Hist Low Temp                   300 non-null float64\n",
      "Hist Ave Temp                   300 non-null float64\n",
      "Percipitation at Launch Time    300 non-null float64\n",
      "Hist Ave Percipitation          300 non-null float64\n",
      "Wind Direction                  300 non-null int32\n",
      "Max Wind Speed                  300 non-null float64\n",
      "Visibility                      300 non-null float64\n",
      "Wind Speed at Launch Time       300 non-null float64\n",
      "Condition                       300 non-null int32\n",
      "dtypes: float64(12), int32(3)\n",
      "memory usage: 31.8 KB\n"
     ]
    }
   ],
   "source": [
    "X.info()"
   ]
  },
  {
   "cell_type": "code",
   "execution_count": 20,
   "metadata": {},
   "outputs": [],
   "source": [
    "# Create decision tree classifier \n",
    "tree_model = DecisionTreeClassifier(random_state=7,max_depth=10,min_samples_split=2)"
   ]
  },
  {
   "cell_type": "code",
   "execution_count": 21,
   "metadata": {},
   "outputs": [],
   "source": [
    "X_train, X_test, y_train, y_test = train_test_split(X,y, test_size=0.2, random_state=7)"
   ]
  },
  {
   "cell_type": "code",
   "execution_count": 22,
   "metadata": {},
   "outputs": [
    {
     "data": {
      "text/plain": [
       "DecisionTreeClassifier(class_weight=None, criterion='gini', max_depth=10,\n",
       "                       max_features=None, max_leaf_nodes=None,\n",
       "                       min_impurity_decrease=0.0, min_impurity_split=None,\n",
       "                       min_samples_leaf=1, min_samples_split=2,\n",
       "                       min_weight_fraction_leaf=0.0, presort=False,\n",
       "                       random_state=7, splitter='best')"
      ]
     },
     "execution_count": 22,
     "metadata": {},
     "output_type": "execute_result"
    }
   ],
   "source": [
    "# Fitting the model to the training data\n",
    "tree_model.fit(X_train,y_train)"
   ]
  },
  {
   "cell_type": "code",
   "execution_count": 23,
   "metadata": {},
   "outputs": [
    {
     "name": "stdout",
     "output_type": "stream",
     "text": [
      "['N' 'Y' 'N' 'N' 'N' 'N' 'N' 'N' 'Y' 'Y' 'N' 'Y' 'N' 'N' 'N' 'N' 'N' 'N'\n",
      " 'Y' 'N' 'N' 'N' 'N' 'N' 'N' 'Y' 'Y' 'Y' 'N' 'N' 'N' 'N' 'N' 'N' 'N' 'N'\n",
      " 'Y' 'N' 'N' 'N' 'Y' 'N' 'N' 'N' 'N' 'Y' 'N' 'N' 'N' 'N' 'N' 'N' 'N' 'N'\n",
      " 'N' 'N' 'N' 'N' 'Y' 'N']\n"
     ]
    }
   ],
   "source": [
    "# Do prediction on test Data\n",
    "y_pred = tree_model.predict(X_test)\n",
    "print(y_pred)"
   ]
  },
  {
   "cell_type": "code",
   "execution_count": 24,
   "metadata": {},
   "outputs": [
    {
     "data": {
      "text/plain": [
       "0.9833333333333333"
      ]
     },
     "execution_count": 24,
     "metadata": {},
     "output_type": "execute_result"
    }
   ],
   "source": [
    "# Calculate accuracy\n",
    "tree_model.score(X_test,y_test)"
   ]
  },
  {
   "cell_type": "code",
   "execution_count": 25,
   "metadata": {},
   "outputs": [],
   "source": [
    "# Let's import a library for visualizing our decision tree.\n",
    "from sklearn.tree import export_graphviz\n",
    "\n",
    "def tree_graph_to_png(tree, feature_names,class_names, png_file_to_save):\n",
    "    tree_str = export_graphviz(tree, feature_names=feature_names, class_names=class_names,\n",
    "                                     filled=True, out_file=None)\n",
    "    graph = pydotplus.graph_from_dot_data(tree_str)  \n",
    "    return Image(graph.create_png())"
   ]
  },
  {
   "cell_type": "code",
   "execution_count": 26,
   "metadata": {},
   "outputs": [
    {
     "data": {
      "image/png": "[encoded data removed]",
      "text/plain": [
       "<IPython.core.display.Image object>"
      ]
     },
     "execution_count": 26,
     "metadata": {},
     "output_type": "execute_result"
    }
   ],
   "source": [
    "# This function takes a machine learning model and visualizes it.\n",
    "tree_graph_to_png(tree=tree_model, feature_names=X.columns.values,class_names=['No Launch','Launch'], png_file_to_save='decision-tree.png')"
   ]
  },
  {
   "cell_type": "code",
   "execution_count": 27,
   "metadata": {},
   "outputs": [
    {
     "data": {
      "text/html": [
       "<div>\n",
       "<style scoped>\n",
       "    .dataframe tbody tr th:only-of-type {\n",
       "        vertical-align: middle;\n",
       "    }\n",
       "\n",
       "    .dataframe tbody tr th {\n",
       "        vertical-align: top;\n",
       "    }\n",
       "\n",
       "    .dataframe thead th {\n",
       "        text-align: right;\n",
       "    }\n",
       "</style>\n",
       "<table border=\"1\" class=\"dataframe\">\n",
       "  <thead>\n",
       "    <tr style=\"text-align: right;\">\n",
       "      <th></th>\n",
       "      <th>Crewed or Uncrewed</th>\n",
       "      <th>High Temp</th>\n",
       "      <th>Low Temp</th>\n",
       "      <th>Ave Temp</th>\n",
       "      <th>Temp at Launch Time</th>\n",
       "      <th>Hist High Temp</th>\n",
       "      <th>Hist Low Temp</th>\n",
       "      <th>Hist Ave Temp</th>\n",
       "      <th>Percipitation at Launch Time</th>\n",
       "      <th>Hist Ave Percipitation</th>\n",
       "      <th>Wind Direction</th>\n",
       "      <th>Max Wind Speed</th>\n",
       "      <th>Visibility</th>\n",
       "      <th>Wind Speed at Launch Time</th>\n",
       "      <th>Condition</th>\n",
       "    </tr>\n",
       "  </thead>\n",
       "  <tbody>\n",
       "    <tr>\n",
       "      <th>292</th>\n",
       "      <td>0</td>\n",
       "      <td>86.0</td>\n",
       "      <td>70.0</td>\n",
       "      <td>75.02</td>\n",
       "      <td>74.0</td>\n",
       "      <td>87.0</td>\n",
       "      <td>70.0</td>\n",
       "      <td>79.0</td>\n",
       "      <td>0.28</td>\n",
       "      <td>0.15</td>\n",
       "      <td>4</td>\n",
       "      <td>32.0</td>\n",
       "      <td>10.0</td>\n",
       "      <td>25.0</td>\n",
       "      <td>2</td>\n",
       "    </tr>\n",
       "  </tbody>\n",
       "</table>\n",
       "</div>"
      ],
      "text/plain": [
       "     Crewed or Uncrewed  High Temp  Low Temp  Ave Temp  Temp at Launch Time  \\\n",
       "292                   0       86.0      70.0     75.02                 74.0   \n",
       "\n",
       "     Hist High Temp  Hist Low Temp  Hist Ave Temp  \\\n",
       "292            87.0           70.0           79.0   \n",
       "\n",
       "     Percipitation at Launch Time  Hist Ave Percipitation  Wind Direction  \\\n",
       "292                          0.28                    0.15               4   \n",
       "\n",
       "     Max Wind Speed  Visibility  Wind Speed at Launch Time  Condition  \n",
       "292            32.0        10.0                       25.0          2  "
      ]
     },
     "execution_count": 27,
     "metadata": {},
     "output_type": "execute_result"
    }
   ],
   "source": [
    "launch_data[(launch_data['Wind Speed at Launch Time'] > 1) & (launch_data['Max Wind Speed'] > 30.5)]"
   ]
  },
  {
   "cell_type": "code",
   "execution_count": 28,
   "metadata": {},
   "outputs": [
    {
     "data": {
      "text/plain": [
       "array(['N'], dtype=object)"
      ]
     },
     "execution_count": 28,
     "metadata": {},
     "output_type": "execute_result"
    }
   ],
   "source": [
    "# ['Crewed or Uncrewed', 'High Temp', 'Low Temp', 'Ave Temp',\n",
    "#        'Temp at Launch Time', 'Hist High Temp', 'Hist Low Temp',\n",
    "#        'Hist Ave Temp', 'Precipitation at Launch Time',\n",
    "#        'Hist Ave Precipitation', 'Wind Direction', 'Max Wind Speed',\n",
    "#        'Visibility', 'Wind Speed at Launch Time', 'Hist Ave Max Wind Speed',\n",
    "#        'Hist Ave Visibility', 'Condition']\n",
    "\n",
    "data_input = [ 1.  , 75.  , 68.  , 71.  ,  0.  , 75.  , 55.  , 65.  ,  0.  , 0.08,  0.  , 16.  , 15.  ,  0.  ,  0. ]\n",
    "\n",
    "tree_model.predict([data_input])"
   ]
  },
  {
   "cell_type": "code",
   "execution_count": null,
   "metadata": {},
   "outputs": [],
   "source": []
  }
 ],
 "metadata": {
  "kernelspec": {
   "display_name": "Python 3",
   "language": "python",
   "name": "python3"
  },
  "language_info": {
   "codemirror_mode": {
    "name": "ipython",
    "version": 3
   },
   "file_extension": ".py",
   "mimetype": "text/x-python",
   "name": "python",
   "nbconvert_exporter": "python",
   "pygments_lexer": "ipython3",
   "version": "3.7.4"
  }
 },
 "nbformat": 4,
 "nbformat_minor": 2
}
